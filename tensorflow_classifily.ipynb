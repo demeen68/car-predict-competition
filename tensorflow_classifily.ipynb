{
 "cells": [
  {
   "cell_type": "code",
   "execution_count": 1,
   "metadata": {},
   "outputs": [],
   "source": [
    "import numpy as np\n",
    "import pandas as pd\n",
    "import matplotlib.pyplot as plt\n",
    "import tensorflow as tf\n",
    "from tensorflow.keras import layers\n",
    "import tensorflow.keras\n",
    "import warnings\n",
    "warnings.filterwarnings('ignore')\n",
    "%matplotlib inline"
   ]
  },
  {
   "cell_type": "code",
   "execution_count": 2,
   "metadata": {},
   "outputs": [],
   "source": [
    "df = pd.read_csv('game_data/preprocessing_data.csv')"
   ]
  },
  {
   "cell_type": "code",
   "execution_count": 3,
   "metadata": {},
   "outputs": [
    {
     "data": {
      "text/html": [
       "<div>\n",
       "<style scoped>\n",
       "    .dataframe tbody tr th:only-of-type {\n",
       "        vertical-align: middle;\n",
       "    }\n",
       "\n",
       "    .dataframe tbody tr th {\n",
       "        vertical-align: top;\n",
       "    }\n",
       "\n",
       "    .dataframe thead th {\n",
       "        text-align: right;\n",
       "    }\n",
       "</style>\n",
       "<table border=\"1\" class=\"dataframe\">\n",
       "  <thead>\n",
       "    <tr style=\"text-align: right;\">\n",
       "      <th></th>\n",
       "      <th>CUST_SEX</th>\n",
       "      <th>CUST_AGE</th>\n",
       "      <th>BUYERPART</th>\n",
       "      <th>CAR_AGE</th>\n",
       "      <th>CAR_PRICE</th>\n",
       "      <th>IS_LOAN</th>\n",
       "      <th>LOAN_PERIED</th>\n",
       "      <th>LOAN_AMOUNT</th>\n",
       "      <th>F_INSORNOT</th>\n",
       "      <th>ALL_BUYINS_N</th>\n",
       "      <th>...</th>\n",
       "      <th>CAR_MODEL_车型2</th>\n",
       "      <th>CAR_MODEL_车型3</th>\n",
       "      <th>CAR_MODEL_车型4</th>\n",
       "      <th>CAR_MODEL_车型5</th>\n",
       "      <th>CAR_MODEL_车型6</th>\n",
       "      <th>CAR_MODEL_车型7</th>\n",
       "      <th>CAR_MODEL_车型8</th>\n",
       "      <th>CAR_MODEL_车型9</th>\n",
       "      <th>CAR_MODEL_nan</th>\n",
       "      <th>IS_LOST</th>\n",
       "    </tr>\n",
       "  </thead>\n",
       "  <tbody>\n",
       "    <tr>\n",
       "      <td>0</td>\n",
       "      <td>1</td>\n",
       "      <td>42.0</td>\n",
       "      <td>1</td>\n",
       "      <td>44.102154</td>\n",
       "      <td>433.358974</td>\n",
       "      <td>1</td>\n",
       "      <td>5.0</td>\n",
       "      <td>344.760787</td>\n",
       "      <td>1.0</td>\n",
       "      <td>1.0</td>\n",
       "      <td>...</td>\n",
       "      <td>0</td>\n",
       "      <td>0</td>\n",
       "      <td>0</td>\n",
       "      <td>0</td>\n",
       "      <td>1</td>\n",
       "      <td>0</td>\n",
       "      <td>0</td>\n",
       "      <td>0</td>\n",
       "      <td>0</td>\n",
       "      <td>0</td>\n",
       "    </tr>\n",
       "    <tr>\n",
       "      <td>1</td>\n",
       "      <td>2</td>\n",
       "      <td>47.0</td>\n",
       "      <td>1</td>\n",
       "      <td>24.919872</td>\n",
       "      <td>299.666481</td>\n",
       "      <td>0</td>\n",
       "      <td>0.0</td>\n",
       "      <td>0.000000</td>\n",
       "      <td>1.0</td>\n",
       "      <td>1.0</td>\n",
       "      <td>...</td>\n",
       "      <td>0</td>\n",
       "      <td>0</td>\n",
       "      <td>0</td>\n",
       "      <td>0</td>\n",
       "      <td>0</td>\n",
       "      <td>1</td>\n",
       "      <td>0</td>\n",
       "      <td>0</td>\n",
       "      <td>0</td>\n",
       "      <td>0</td>\n",
       "    </tr>\n",
       "    <tr>\n",
       "      <td>2</td>\n",
       "      <td>1</td>\n",
       "      <td>44.0</td>\n",
       "      <td>1</td>\n",
       "      <td>18.275667</td>\n",
       "      <td>360.277671</td>\n",
       "      <td>1</td>\n",
       "      <td>4.0</td>\n",
       "      <td>223.606798</td>\n",
       "      <td>1.0</td>\n",
       "      <td>1.0</td>\n",
       "      <td>...</td>\n",
       "      <td>1</td>\n",
       "      <td>0</td>\n",
       "      <td>0</td>\n",
       "      <td>0</td>\n",
       "      <td>0</td>\n",
       "      <td>0</td>\n",
       "      <td>0</td>\n",
       "      <td>0</td>\n",
       "      <td>0</td>\n",
       "      <td>0</td>\n",
       "    </tr>\n",
       "    <tr>\n",
       "      <td>3</td>\n",
       "      <td>1</td>\n",
       "      <td>36.0</td>\n",
       "      <td>1</td>\n",
       "      <td>49.436828</td>\n",
       "      <td>479.374593</td>\n",
       "      <td>0</td>\n",
       "      <td>0.0</td>\n",
       "      <td>0.000000</td>\n",
       "      <td>0.0</td>\n",
       "      <td>4.0</td>\n",
       "      <td>...</td>\n",
       "      <td>0</td>\n",
       "      <td>0</td>\n",
       "      <td>0</td>\n",
       "      <td>0</td>\n",
       "      <td>1</td>\n",
       "      <td>0</td>\n",
       "      <td>0</td>\n",
       "      <td>0</td>\n",
       "      <td>0</td>\n",
       "      <td>0</td>\n",
       "    </tr>\n",
       "    <tr>\n",
       "      <td>4</td>\n",
       "      <td>1</td>\n",
       "      <td>66.0</td>\n",
       "      <td>1</td>\n",
       "      <td>40.360872</td>\n",
       "      <td>489.693782</td>\n",
       "      <td>1</td>\n",
       "      <td>5.0</td>\n",
       "      <td>408.656335</td>\n",
       "      <td>1.0</td>\n",
       "      <td>2.0</td>\n",
       "      <td>...</td>\n",
       "      <td>0</td>\n",
       "      <td>0</td>\n",
       "      <td>0</td>\n",
       "      <td>0</td>\n",
       "      <td>1</td>\n",
       "      <td>0</td>\n",
       "      <td>0</td>\n",
       "      <td>0</td>\n",
       "      <td>0</td>\n",
       "      <td>1</td>\n",
       "    </tr>\n",
       "  </tbody>\n",
       "</table>\n",
       "<p>5 rows × 29 columns</p>\n",
       "</div>"
      ],
      "text/plain": [
       "   CUST_SEX  CUST_AGE  BUYERPART    CAR_AGE   CAR_PRICE  IS_LOAN  LOAN_PERIED  \\\n",
       "0         1      42.0          1  44.102154  433.358974        1          5.0   \n",
       "1         2      47.0          1  24.919872  299.666481        0          0.0   \n",
       "2         1      44.0          1  18.275667  360.277671        1          4.0   \n",
       "3         1      36.0          1  49.436828  479.374593        0          0.0   \n",
       "4         1      66.0          1  40.360872  489.693782        1          5.0   \n",
       "\n",
       "   LOAN_AMOUNT  F_INSORNOT  ALL_BUYINS_N  ...  CAR_MODEL_车型2  CAR_MODEL_车型3  \\\n",
       "0   344.760787         1.0           1.0  ...              0              0   \n",
       "1     0.000000         1.0           1.0  ...              0              0   \n",
       "2   223.606798         1.0           1.0  ...              1              0   \n",
       "3     0.000000         0.0           4.0  ...              0              0   \n",
       "4   408.656335         1.0           2.0  ...              0              0   \n",
       "\n",
       "   CAR_MODEL_车型4  CAR_MODEL_车型5  CAR_MODEL_车型6  CAR_MODEL_车型7  CAR_MODEL_车型8  \\\n",
       "0              0              0              1              0              0   \n",
       "1              0              0              0              1              0   \n",
       "2              0              0              0              0              0   \n",
       "3              0              0              1              0              0   \n",
       "4              0              0              1              0              0   \n",
       "\n",
       "   CAR_MODEL_车型9  CAR_MODEL_nan  IS_LOST  \n",
       "0              0              0        0  \n",
       "1              0              0        0  \n",
       "2              0              0        0  \n",
       "3              0              0        0  \n",
       "4              0              0        1  \n",
       "\n",
       "[5 rows x 29 columns]"
      ]
     },
     "execution_count": 3,
     "metadata": {},
     "output_type": "execute_result"
    }
   ],
   "source": [
    "df.head()"
   ]
  },
  {
   "cell_type": "code",
   "execution_count": 4,
   "metadata": {},
   "outputs": [
    {
     "data": {
      "text/plain": [
       "(54438, 29)"
      ]
     },
     "execution_count": 4,
     "metadata": {},
     "output_type": "execute_result"
    }
   ],
   "source": [
    "df.shape"
   ]
  },
  {
   "cell_type": "code",
   "execution_count": 5,
   "metadata": {},
   "outputs": [],
   "source": [
    "y = df['IS_LOST']\n",
    "y = np.array(y)\n",
    "x = df.drop('IS_LOST',axis=1)\n",
    "x = np.array(x)"
   ]
  },
  {
   "cell_type": "code",
   "execution_count": 7,
   "metadata": {},
   "outputs": [],
   "source": [
    "# 预处理\n",
    "from sklearn import preprocessing\n",
    "from sklearn.model_selection import train_test_split\n",
    "#训练集与测试集的切分\n",
    "x_train,x_test,y_train,y_test = train_test_split(x,y,test_size=0.3,random_state = 0)\n",
    "stdsc = preprocessing.StandardScaler()\n",
    "x_train = stdsc.fit_transform(x_train)\n",
    "x_test = stdsc.fit_transform(x_test)"
   ]
  },
  {
   "cell_type": "markdown",
   "metadata": {},
   "source": [
    "# Keras 构造网络模型"
   ]
  },
  {
   "cell_type": "code",
   "execution_count": 8,
   "metadata": {},
   "outputs": [],
   "source": [
    "model = tf.keras.Sequential()"
   ]
  },
  {
   "cell_type": "code",
   "execution_count": 9,
   "metadata": {},
   "outputs": [],
   "source": [
    "model.add(layers.Dense(8,activation='relu'))\n",
    "model.add(layers.Dense(16,activation='relu'))\n",
    "model.add(layers.Dense(32,activation='relu'))\n",
    "model.add(layers.Dense(1,activation='softmax'))"
   ]
  },
  {
   "cell_type": "code",
   "execution_count": 14,
   "metadata": {},
   "outputs": [],
   "source": [
    "from tensorflow.keras.optimizers import Adam\n",
    "\n",
    "model.compile(optimizer = Adam(lr=0.001), \n",
    "              loss = 'binary_crossentropy', \n",
    "              metrics = ['acc'])"
   ]
  },
  {
   "cell_type": "code",
   "execution_count": 17,
   "metadata": {
    "scrolled": true
   },
   "outputs": [
    {
     "name": "stdout",
     "output_type": "stream",
     "text": [
      "Epoch 1/10\n",
      "6/6 [==============================] - 0s 11ms/step - loss: 7.5990 - acc: 0.5017 - val_loss: 7.6844 - val_acc: 0.4961\n",
      "Epoch 2/10\n",
      "6/6 [==============================] - 0s 12ms/step - loss: 7.5990 - acc: 0.5017 - val_loss: 7.6844 - val_acc: 0.4961\n",
      "Epoch 3/10\n",
      "6/6 [==============================] - 0s 14ms/step - loss: 7.5990 - acc: 0.5017 - val_loss: 7.6844 - val_acc: 0.4961\n",
      "Epoch 4/10\n",
      "6/6 [==============================] - 0s 13ms/step - loss: 7.5990 - acc: 0.5017 - val_loss: 7.6844 - val_acc: 0.4961\n",
      "Epoch 5/10\n",
      "6/6 [==============================] - 0s 13ms/step - loss: 7.5990 - acc: 0.5017 - val_loss: 7.6844 - val_acc: 0.4961\n",
      "Epoch 6/10\n",
      "6/6 [==============================] - 0s 12ms/step - loss: 7.5990 - acc: 0.5017 - val_loss: 7.6844 - val_acc: 0.4961\n",
      "Epoch 7/10\n",
      "6/6 [==============================] - 0s 12ms/step - loss: 7.5990 - acc: 0.5017 - val_loss: 7.6844 - val_acc: 0.4961\n",
      "Epoch 8/10\n",
      "6/6 [==============================] - 0s 12ms/step - loss: 7.5990 - acc: 0.5017 - val_loss: 7.6844 - val_acc: 0.4961\n",
      "Epoch 9/10\n",
      "6/6 [==============================] - 0s 12ms/step - loss: 7.5990 - acc: 0.5017 - val_loss: 7.6844 - val_acc: 0.4961\n",
      "Epoch 10/10\n",
      "6/6 [==============================] - 0s 13ms/step - loss: 7.5990 - acc: 0.5017 - val_loss: 7.6844 - val_acc: 0.4961\n"
     ]
    },
    {
     "data": {
      "text/plain": [
       "<tensorflow.python.keras.callbacks.History at 0x7f5bf8406650>"
      ]
     },
     "execution_count": 17,
     "metadata": {},
     "output_type": "execute_result"
    }
   ],
   "source": [
    "model.fit(x_train,y_train,epochs=10,batch_size=6400,validation_data=(x_test,y_test))"
   ]
  },
  {
   "cell_type": "code",
   "execution_count": null,
   "metadata": {},
   "outputs": [],
   "source": []
  }
 ],
 "metadata": {
  "kernelspec": {
   "display_name": "Python 3",
   "language": "python",
   "name": "python3"
  },
  "language_info": {
   "codemirror_mode": {
    "name": "ipython",
    "version": 3
   },
   "file_extension": ".py",
   "mimetype": "text/x-python",
   "name": "python",
   "nbconvert_exporter": "python",
   "pygments_lexer": "ipython3",
   "version": "3.8.5"
  }
 },
 "nbformat": 4,
 "nbformat_minor": 2
}
